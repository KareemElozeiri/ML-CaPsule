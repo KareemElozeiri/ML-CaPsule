{
 "cells": [
  {
   "cell_type": "markdown",
   "metadata": {},
   "source": [
    "# Website Classifier :"
   ]
  },
  {
   "cell_type": "markdown",
   "metadata": {},
   "source": [
    "    The aim of this project is to build a classifier for the websites based on the cleaned text of a given website. The classifier should be able to classify the websites to categories like Travel, Food, Games, etc. "
   ]
  },
  {
   "cell_type": "markdown",
   "metadata": {},
   "source": [
    "#### Importing needed libraries:"
   ]
  },
  {
   "cell_type": "code",
   "execution_count": 24,
   "metadata": {},
   "outputs": [],
   "source": [
    "import pandas as pd\n",
    "import numpy as np \n",
    "import keras "
   ]
  },
  {
   "cell_type": "markdown",
   "metadata": {},
   "source": [
    "### Importing the dataset and exploring its parameters :"
   ]
  },
  {
   "cell_type": "code",
   "execution_count": 25,
   "metadata": {},
   "outputs": [],
   "source": [
    "original_df = pd.read_csv(\"./Dataset/website_classification.csv\")"
   ]
  },
  {
   "cell_type": "code",
   "execution_count": 26,
   "metadata": {},
   "outputs": [
    {
     "data": {
      "text/html": [
       "<div>\n",
       "<style scoped>\n",
       "    .dataframe tbody tr th:only-of-type {\n",
       "        vertical-align: middle;\n",
       "    }\n",
       "\n",
       "    .dataframe tbody tr th {\n",
       "        vertical-align: top;\n",
       "    }\n",
       "\n",
       "    .dataframe thead th {\n",
       "        text-align: right;\n",
       "    }\n",
       "</style>\n",
       "<table border=\"1\" class=\"dataframe\">\n",
       "  <thead>\n",
       "    <tr style=\"text-align: right;\">\n",
       "      <th></th>\n",
       "      <th>Unnamed: 0</th>\n",
       "      <th>website_url</th>\n",
       "      <th>cleaned_website_text</th>\n",
       "      <th>Category</th>\n",
       "    </tr>\n",
       "  </thead>\n",
       "  <tbody>\n",
       "    <tr>\n",
       "      <th>0</th>\n",
       "      <td>0</td>\n",
       "      <td>https://www.booking.com/index.html?aid=1743217</td>\n",
       "      <td>official site good hotel accommodation big sav...</td>\n",
       "      <td>Travel</td>\n",
       "    </tr>\n",
       "    <tr>\n",
       "      <th>1</th>\n",
       "      <td>1</td>\n",
       "      <td>https://travelsites.com/expedia/</td>\n",
       "      <td>expedia hotel book sites like use vacation wor...</td>\n",
       "      <td>Travel</td>\n",
       "    </tr>\n",
       "    <tr>\n",
       "      <th>2</th>\n",
       "      <td>2</td>\n",
       "      <td>https://travelsites.com/tripadvisor/</td>\n",
       "      <td>tripadvisor hotel book sites like previously d...</td>\n",
       "      <td>Travel</td>\n",
       "    </tr>\n",
       "    <tr>\n",
       "      <th>3</th>\n",
       "      <td>3</td>\n",
       "      <td>https://www.momondo.in/?ispredir=true</td>\n",
       "      <td>cheap flights search compare flights momondo f...</td>\n",
       "      <td>Travel</td>\n",
       "    </tr>\n",
       "    <tr>\n",
       "      <th>4</th>\n",
       "      <td>4</td>\n",
       "      <td>https://www.ebookers.com/?AFFCID=EBOOKERS-UK.n...</td>\n",
       "      <td>bot create free account create free account si...</td>\n",
       "      <td>Travel</td>\n",
       "    </tr>\n",
       "  </tbody>\n",
       "</table>\n",
       "</div>"
      ],
      "text/plain": [
       "   Unnamed: 0                                        website_url  \\\n",
       "0           0     https://www.booking.com/index.html?aid=1743217   \n",
       "1           1                   https://travelsites.com/expedia/   \n",
       "2           2               https://travelsites.com/tripadvisor/   \n",
       "3           3              https://www.momondo.in/?ispredir=true   \n",
       "4           4  https://www.ebookers.com/?AFFCID=EBOOKERS-UK.n...   \n",
       "\n",
       "                                cleaned_website_text Category  \n",
       "0  official site good hotel accommodation big sav...   Travel  \n",
       "1  expedia hotel book sites like use vacation wor...   Travel  \n",
       "2  tripadvisor hotel book sites like previously d...   Travel  \n",
       "3  cheap flights search compare flights momondo f...   Travel  \n",
       "4  bot create free account create free account si...   Travel  "
      ]
     },
     "execution_count": 26,
     "metadata": {},
     "output_type": "execute_result"
    }
   ],
   "source": [
    "original_df.head()"
   ]
  },
  {
   "cell_type": "code",
   "execution_count": 27,
   "metadata": {},
   "outputs": [
    {
     "name": "stdout",
     "output_type": "stream",
     "text": [
      "<class 'pandas.core.frame.DataFrame'>\n",
      "RangeIndex: 1408 entries, 0 to 1407\n",
      "Data columns (total 4 columns):\n",
      " #   Column                Non-Null Count  Dtype \n",
      "---  ------                --------------  ----- \n",
      " 0   Unnamed: 0            1408 non-null   int64 \n",
      " 1   website_url           1408 non-null   object\n",
      " 2   cleaned_website_text  1408 non-null   object\n",
      " 3   Category              1408 non-null   object\n",
      "dtypes: int64(1), object(3)\n",
      "memory usage: 44.1+ KB\n"
     ]
    }
   ],
   "source": [
    "original_df.info()"
   ]
  },
  {
   "cell_type": "code",
   "execution_count": 28,
   "metadata": {},
   "outputs": [],
   "source": [
    "categories = original_df[\"Category\"].unique()"
   ]
  },
  {
   "cell_type": "code",
   "execution_count": 29,
   "metadata": {},
   "outputs": [
    {
     "name": "stdout",
     "output_type": "stream",
     "text": [
      "0) Travel\n",
      "1) Social Networking and Messaging\n",
      "2) News\n",
      "3) Streaming Services\n",
      "4) Sports\n",
      "5) Photography\n",
      "6) Law and Government\n",
      "7) Health and Fitness\n",
      "8) Games\n",
      "9) E-Commerce\n",
      "10) Forums\n",
      "11) Food\n",
      "12) Education\n",
      "13) Computers and Technology\n",
      "14) Business/Corporate\n",
      "15) Adult\n",
      "Total number of categories : 16\n"
     ]
    }
   ],
   "source": [
    "for i in range(len(categories)):\n",
    "    print(f\"{i}) {categories[i]}\")\n",
    "print(\"Total number of categories :\",len(categories))"
   ]
  },
  {
   "cell_type": "markdown",
   "metadata": {},
   "source": [
    "### Preparing the Data :"
   ]
  },
  {
   "cell_type": "code",
   "execution_count": 30,
   "metadata": {},
   "outputs": [
    {
     "data": {
      "text/plain": [
       "{'Travel': 0,\n",
       " 'Social Networking and Messaging': 1,\n",
       " 'News': 2,\n",
       " 'Streaming Services': 3,\n",
       " 'Sports': 4,\n",
       " 'Photography': 5,\n",
       " 'Law and Government': 6,\n",
       " 'Health and Fitness': 7,\n",
       " 'Games': 8,\n",
       " 'E-Commerce': 9,\n",
       " 'Forums': 10,\n",
       " 'Food': 11,\n",
       " 'Education': 12,\n",
       " 'Computers and Technology': 13,\n",
       " 'Business/Corporate': 14,\n",
       " 'Adult': 15}"
      ]
     },
     "execution_count": 30,
     "metadata": {},
     "output_type": "execute_result"
    }
   ],
   "source": [
    "categories_dict = {}\n",
    "for i in range(len(categories)):\n",
    "    categories_dict[categories[i]] = i \n",
    "categories_dict"
   ]
  },
  {
   "cell_type": "code",
   "execution_count": 31,
   "metadata": {},
   "outputs": [],
   "source": [
    "df = original_df.copy()\n",
    "df[\"Category\"] = df[\"Category\"].map(categories_dict)"
   ]
  },
  {
   "cell_type": "code",
   "execution_count": 43,
   "metadata": {},
   "outputs": [
    {
     "data": {
      "text/html": [
       "<div>\n",
       "<style scoped>\n",
       "    .dataframe tbody tr th:only-of-type {\n",
       "        vertical-align: middle;\n",
       "    }\n",
       "\n",
       "    .dataframe tbody tr th {\n",
       "        vertical-align: top;\n",
       "    }\n",
       "\n",
       "    .dataframe thead th {\n",
       "        text-align: right;\n",
       "    }\n",
       "</style>\n",
       "<table border=\"1\" class=\"dataframe\">\n",
       "  <thead>\n",
       "    <tr style=\"text-align: right;\">\n",
       "      <th></th>\n",
       "      <th>Unnamed: 0</th>\n",
       "      <th>website_url</th>\n",
       "      <th>cleaned_website_text</th>\n",
       "      <th>Category</th>\n",
       "    </tr>\n",
       "  </thead>\n",
       "  <tbody>\n",
       "    <tr>\n",
       "      <th>100</th>\n",
       "      <td>100</td>\n",
       "      <td>https://www.tridenthotels.com/</td>\n",
       "      <td>star hotels india luxury hotels india trident ...</td>\n",
       "      <td>0</td>\n",
       "    </tr>\n",
       "    <tr>\n",
       "      <th>101</th>\n",
       "      <td>101</td>\n",
       "      <td>https://www.tropicanaalibaug.com/</td>\n",
       "      <td>tropicana resort spa resorts alibaug resorts w...</td>\n",
       "      <td>0</td>\n",
       "    </tr>\n",
       "    <tr>\n",
       "      <th>102</th>\n",
       "      <td>102</td>\n",
       "      <td>https://www.anantara.com/en/riverside-bangkok</td>\n",
       "      <td>bangkok resort anantara riverside bangkok reso...</td>\n",
       "      <td>0</td>\n",
       "    </tr>\n",
       "    <tr>\n",
       "      <th>103</th>\n",
       "      <td>103</td>\n",
       "      <td>http://sunbeachresortgorai.com/</td>\n",
       "      <td>sun beach resort ponda wadi gorai beach boriva...</td>\n",
       "      <td>0</td>\n",
       "    </tr>\n",
       "    <tr>\n",
       "      <th>104</th>\n",
       "      <td>104</td>\n",
       "      <td>https://waterfrontshaw.com/</td>\n",
       "      <td>lavasa hotels waterfront shaw waterfront shaw ...</td>\n",
       "      <td>0</td>\n",
       "    </tr>\n",
       "    <tr>\n",
       "      <th>105</th>\n",
       "      <td>105</td>\n",
       "      <td>https://www.alliancehospitality.in/moksh_farms...</td>\n",
       "      <td>moksh farms alliance hospitality services moks...</td>\n",
       "      <td>0</td>\n",
       "    </tr>\n",
       "    <tr>\n",
       "      <th>106</th>\n",
       "      <td>106</td>\n",
       "      <td>https://www.silenthillsresort.com/</td>\n",
       "      <td>resort near mumbai water resorts mumbai picnic...</td>\n",
       "      <td>0</td>\n",
       "    </tr>\n",
       "    <tr>\n",
       "      <th>107</th>\n",
       "      <td>107</td>\n",
       "      <td>https://www.fubo.tv/lp/StreamTV/?irad=343747&amp;i...</td>\n",
       "      <td>stream live tv sports fubotv free trial sport ...</td>\n",
       "      <td>3</td>\n",
       "    </tr>\n",
       "    <tr>\n",
       "      <th>108</th>\n",
       "      <td>108</td>\n",
       "      <td>https://www.hulu.com/</td>\n",
       "      <td>stream tv movie live online hulu watch tv show...</td>\n",
       "      <td>3</td>\n",
       "    </tr>\n",
       "    <tr>\n",
       "      <th>109</th>\n",
       "      <td>109</td>\n",
       "      <td>https://tv.youtube.com/</td>\n",
       "      <td>youtube tv watch dvr live sports shows news st...</td>\n",
       "      <td>3</td>\n",
       "    </tr>\n",
       "    <tr>\n",
       "      <th>110</th>\n",
       "      <td>110</td>\n",
       "      <td>https://www.attwatchtv.com/</td>\n",
       "      <td>watchtv stream channel live tv want watchtv ex...</td>\n",
       "      <td>3</td>\n",
       "    </tr>\n",
       "    <tr>\n",
       "      <th>111</th>\n",
       "      <td>111</td>\n",
       "      <td>https://www.klowdtv.com/</td>\n",
       "      <td>live tv streaming klowdtv klowdtv provide live...</td>\n",
       "      <td>3</td>\n",
       "    </tr>\n",
       "    <tr>\n",
       "      <th>112</th>\n",
       "      <td>112</td>\n",
       "      <td>https://corporate.pluto.tv/</td>\n",
       "      <td>pluto tv watch free tv movies online apps plut...</td>\n",
       "      <td>3</td>\n",
       "    </tr>\n",
       "    <tr>\n",
       "      <th>113</th>\n",
       "      <td>113</td>\n",
       "      <td>https://www.xumo.tv/</td>\n",
       "      <td>xumo free movie xumo ultimate destination stre...</td>\n",
       "      <td>3</td>\n",
       "    </tr>\n",
       "    <tr>\n",
       "      <th>114</th>\n",
       "      <td>114</td>\n",
       "      <td>https://www.zee5.com/</td>\n",
       "      <td>watch tv serial original show movies news live...</td>\n",
       "      <td>3</td>\n",
       "    </tr>\n",
       "  </tbody>\n",
       "</table>\n",
       "</div>"
      ],
      "text/plain": [
       "     Unnamed: 0                                        website_url  \\\n",
       "100         100                     https://www.tridenthotels.com/   \n",
       "101         101                  https://www.tropicanaalibaug.com/   \n",
       "102         102      https://www.anantara.com/en/riverside-bangkok   \n",
       "103         103                    http://sunbeachresortgorai.com/   \n",
       "104         104                        https://waterfrontshaw.com/   \n",
       "105         105  https://www.alliancehospitality.in/moksh_farms...   \n",
       "106         106                 https://www.silenthillsresort.com/   \n",
       "107         107  https://www.fubo.tv/lp/StreamTV/?irad=343747&i...   \n",
       "108         108                              https://www.hulu.com/   \n",
       "109         109                            https://tv.youtube.com/   \n",
       "110         110                        https://www.attwatchtv.com/   \n",
       "111         111                           https://www.klowdtv.com/   \n",
       "112         112                        https://corporate.pluto.tv/   \n",
       "113         113                               https://www.xumo.tv/   \n",
       "114         114                              https://www.zee5.com/   \n",
       "\n",
       "                                  cleaned_website_text  Category  \n",
       "100  star hotels india luxury hotels india trident ...         0  \n",
       "101  tropicana resort spa resorts alibaug resorts w...         0  \n",
       "102  bangkok resort anantara riverside bangkok reso...         0  \n",
       "103  sun beach resort ponda wadi gorai beach boriva...         0  \n",
       "104  lavasa hotels waterfront shaw waterfront shaw ...         0  \n",
       "105  moksh farms alliance hospitality services moks...         0  \n",
       "106  resort near mumbai water resorts mumbai picnic...         0  \n",
       "107  stream live tv sports fubotv free trial sport ...         3  \n",
       "108  stream tv movie live online hulu watch tv show...         3  \n",
       "109  youtube tv watch dvr live sports shows news st...         3  \n",
       "110  watchtv stream channel live tv want watchtv ex...         3  \n",
       "111  live tv streaming klowdtv klowdtv provide live...         3  \n",
       "112  pluto tv watch free tv movies online apps plut...         3  \n",
       "113  xumo free movie xumo ultimate destination stre...         3  \n",
       "114  watch tv serial original show movies news live...         3  "
      ]
     },
     "execution_count": 43,
     "metadata": {},
     "output_type": "execute_result"
    }
   ],
   "source": [
    "df[100:115]"
   ]
  },
  {
   "cell_type": "code",
   "execution_count": 51,
   "metadata": {},
   "outputs": [
    {
     "data": {
      "text/plain": [
       "672"
      ]
     },
     "execution_count": 51,
     "metadata": {},
     "output_type": "execute_result"
    }
   ],
   "source": []
  },
  {
   "cell_type": "markdown",
   "metadata": {},
   "source": [
    "### Building the classifier :"
   ]
  },
  {
   "cell_type": "code",
   "execution_count": null,
   "metadata": {},
   "outputs": [],
   "source": [
    "class myCallback(keras.callbacks.Callback):\n",
    "    def on_epoch_end(self, epoch, logs={}):\n",
    "        if logs.get(\"accuracy\") is not None and logs.get(\"accuracy\")>0.99:\n",
    "            print(f\"\\nReached accurage of {logs.get('accuracy')*100}% so terminating now..\")\n",
    "            self.model.stop_training = True"
   ]
  },
  {
   "cell_type": "code",
   "execution_count": null,
   "metadata": {},
   "outputs": [],
   "source": [
    "def create_model():\n",
    "    model = keras.Sequential()\n",
    "    \n",
    "    model.add()\n",
    "    model.add()\n",
    "    model.add()\n",
    "\n",
    "    return model "
   ]
  }
 ],
 "metadata": {
  "interpreter": {
   "hash": "a9ca58c17c16ffb78afa33239fd707dc40c69496d3e07fb8cd4be0b682604448"
  },
  "kernelspec": {
   "display_name": "Python 3.10.2 64-bit",
   "language": "python",
   "name": "python3"
  },
  "language_info": {
   "codemirror_mode": {
    "name": "ipython",
    "version": 3
   },
   "file_extension": ".py",
   "mimetype": "text/x-python",
   "name": "python",
   "nbconvert_exporter": "python",
   "pygments_lexer": "ipython3",
   "version": "3.10.2"
  },
  "orig_nbformat": 4
 },
 "nbformat": 4,
 "nbformat_minor": 2
}
