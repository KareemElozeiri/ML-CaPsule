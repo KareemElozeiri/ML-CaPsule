{
 "cells": [
  {
   "cell_type": "markdown",
   "metadata": {},
   "source": [
    "# Website Classifier :"
   ]
  },
  {
   "cell_type": "markdown",
   "metadata": {},
   "source": [
    "    The aim of this project is to build a classifier for the websites based on the cleaned text of a given website. The classifier should be able to classify the websites to categories like Travel, Food, Games, etc. "
   ]
  },
  {
   "cell_type": "markdown",
   "metadata": {},
   "source": [
    "#### Importing needed libraries:"
   ]
  },
  {
   "cell_type": "code",
   "execution_count": 24,
   "metadata": {},
   "outputs": [],
   "source": [
    "import pandas as pd\n",
    "import numpy as np \n",
    "import keras "
   ]
  },
  {
   "cell_type": "markdown",
   "metadata": {},
   "source": [
    "### Importing the dataset and exploring its parameters :"
   ]
  },
  {
   "cell_type": "code",
   "execution_count": 25,
   "metadata": {},
   "outputs": [],
   "source": [
    "original_df = pd.read_csv(\"./Dataset/website_classification.csv\")"
   ]
  },
  {
   "cell_type": "code",
   "execution_count": 26,
   "metadata": {},
   "outputs": [
    {
     "data": {
      "text/html": [
       "<div>\n",
       "<style scoped>\n",
       "    .dataframe tbody tr th:only-of-type {\n",
       "        vertical-align: middle;\n",
       "    }\n",
       "\n",
       "    .dataframe tbody tr th {\n",
       "        vertical-align: top;\n",
       "    }\n",
       "\n",
       "    .dataframe thead th {\n",
       "        text-align: right;\n",
       "    }\n",
       "</style>\n",
       "<table border=\"1\" class=\"dataframe\">\n",
       "  <thead>\n",
       "    <tr style=\"text-align: right;\">\n",
       "      <th></th>\n",
       "      <th>Unnamed: 0</th>\n",
       "      <th>website_url</th>\n",
       "      <th>cleaned_website_text</th>\n",
       "      <th>Category</th>\n",
       "    </tr>\n",
       "  </thead>\n",
       "  <tbody>\n",
       "    <tr>\n",
       "      <th>0</th>\n",
       "      <td>0</td>\n",
       "      <td>https://www.booking.com/index.html?aid=1743217</td>\n",
       "      <td>official site good hotel accommodation big sav...</td>\n",
       "      <td>Travel</td>\n",
       "    </tr>\n",
       "    <tr>\n",
       "      <th>1</th>\n",
       "      <td>1</td>\n",
       "      <td>https://travelsites.com/expedia/</td>\n",
       "      <td>expedia hotel book sites like use vacation wor...</td>\n",
       "      <td>Travel</td>\n",
       "    </tr>\n",
       "    <tr>\n",
       "      <th>2</th>\n",
       "      <td>2</td>\n",
       "      <td>https://travelsites.com/tripadvisor/</td>\n",
       "      <td>tripadvisor hotel book sites like previously d...</td>\n",
       "      <td>Travel</td>\n",
       "    </tr>\n",
       "    <tr>\n",
       "      <th>3</th>\n",
       "      <td>3</td>\n",
       "      <td>https://www.momondo.in/?ispredir=true</td>\n",
       "      <td>cheap flights search compare flights momondo f...</td>\n",
       "      <td>Travel</td>\n",
       "    </tr>\n",
       "    <tr>\n",
       "      <th>4</th>\n",
       "      <td>4</td>\n",
       "      <td>https://www.ebookers.com/?AFFCID=EBOOKERS-UK.n...</td>\n",
       "      <td>bot create free account create free account si...</td>\n",
       "      <td>Travel</td>\n",
       "    </tr>\n",
       "  </tbody>\n",
       "</table>\n",
       "</div>"
      ],
      "text/plain": [
       "   Unnamed: 0                                        website_url  \\\n",
       "0           0     https://www.booking.com/index.html?aid=1743217   \n",
       "1           1                   https://travelsites.com/expedia/   \n",
       "2           2               https://travelsites.com/tripadvisor/   \n",
       "3           3              https://www.momondo.in/?ispredir=true   \n",
       "4           4  https://www.ebookers.com/?AFFCID=EBOOKERS-UK.n...   \n",
       "\n",
       "                                cleaned_website_text Category  \n",
       "0  official site good hotel accommodation big sav...   Travel  \n",
       "1  expedia hotel book sites like use vacation wor...   Travel  \n",
       "2  tripadvisor hotel book sites like previously d...   Travel  \n",
       "3  cheap flights search compare flights momondo f...   Travel  \n",
       "4  bot create free account create free account si...   Travel  "
      ]
     },
     "execution_count": 26,
     "metadata": {},
     "output_type": "execute_result"
    }
   ],
   "source": [
    "original_df.head()"
   ]
  },
  {
   "cell_type": "code",
   "execution_count": 27,
   "metadata": {},
   "outputs": [
    {
     "name": "stdout",
     "output_type": "stream",
     "text": [
      "<class 'pandas.core.frame.DataFrame'>\n",
      "RangeIndex: 1408 entries, 0 to 1407\n",
      "Data columns (total 4 columns):\n",
      " #   Column                Non-Null Count  Dtype \n",
      "---  ------                --------------  ----- \n",
      " 0   Unnamed: 0            1408 non-null   int64 \n",
      " 1   website_url           1408 non-null   object\n",
      " 2   cleaned_website_text  1408 non-null   object\n",
      " 3   Category              1408 non-null   object\n",
      "dtypes: int64(1), object(3)\n",
      "memory usage: 44.1+ KB\n"
     ]
    }
   ],
   "source": [
    "original_df.info()"
   ]
  },
  {
   "cell_type": "code",
   "execution_count": 28,
   "metadata": {},
   "outputs": [],
   "source": [
    "categories = original_df[\"Category\"].unique()"
   ]
  },
  {
   "cell_type": "code",
   "execution_count": 29,
   "metadata": {},
   "outputs": [
    {
     "name": "stdout",
     "output_type": "stream",
     "text": [
      "0) Travel\n",
      "1) Social Networking and Messaging\n",
      "2) News\n",
      "3) Streaming Services\n",
      "4) Sports\n",
      "5) Photography\n",
      "6) Law and Government\n",
      "7) Health and Fitness\n",
      "8) Games\n",
      "9) E-Commerce\n",
      "10) Forums\n",
      "11) Food\n",
      "12) Education\n",
      "13) Computers and Technology\n",
      "14) Business/Corporate\n",
      "15) Adult\n",
      "Total number of categories : 16\n"
     ]
    }
   ],
   "source": [
    "for i in range(len(categories)):\n",
    "    print(f\"{i}) {categories[i]}\")\n",
    "print(\"Total number of categories :\",len(categories))"
   ]
  },
  {
   "cell_type": "markdown",
   "metadata": {},
   "source": [
    "### Preparing the Data :"
   ]
  },
  {
   "cell_type": "code",
   "execution_count": 30,
   "metadata": {},
   "outputs": [
    {
     "data": {
      "text/plain": [
       "{'Travel': 0,\n",
       " 'Social Networking and Messaging': 1,\n",
       " 'News': 2,\n",
       " 'Streaming Services': 3,\n",
       " 'Sports': 4,\n",
       " 'Photography': 5,\n",
       " 'Law and Government': 6,\n",
       " 'Health and Fitness': 7,\n",
       " 'Games': 8,\n",
       " 'E-Commerce': 9,\n",
       " 'Forums': 10,\n",
       " 'Food': 11,\n",
       " 'Education': 12,\n",
       " 'Computers and Technology': 13,\n",
       " 'Business/Corporate': 14,\n",
       " 'Adult': 15}"
      ]
     },
     "execution_count": 30,
     "metadata": {},
     "output_type": "execute_result"
    }
   ],
   "source": [
    "categories_dict = {}\n",
    "for i in range(len(categories)):\n",
    "    categories_dict[categories[i]] = i \n",
    "categories_dict"
   ]
  },
  {
   "cell_type": "code",
   "execution_count": 31,
   "metadata": {},
   "outputs": [],
   "source": [
    "df = original_df.copy()\n",
    "df[\"Category\"] = df[\"Category\"].map(categories_dict)"
   ]
  },
  {
   "cell_type": "code",
   "execution_count": 39,
   "metadata": {},
   "outputs": [
    {
     "data": {
      "text/plain": [
       "1358    14\n",
       "1359    14\n",
       "1360    14\n",
       "1361    14\n",
       "1362    14\n",
       "1363    14\n",
       "1364    14\n",
       "1365    14\n",
       "1366    14\n",
       "1367    14\n",
       "1368    14\n",
       "1369    14\n",
       "1370    14\n",
       "1371    14\n",
       "1372    14\n",
       "1373    14\n",
       "1374    14\n",
       "1375    14\n",
       "1376    14\n",
       "1377    14\n",
       "1378    14\n",
       "1379    14\n",
       "1380    14\n",
       "1381    14\n",
       "1382    14\n",
       "1383    14\n",
       "1384    14\n",
       "1385    14\n",
       "1386    14\n",
       "1387    14\n",
       "1388    14\n",
       "1389    14\n",
       "1390    14\n",
       "1391    14\n",
       "1392    15\n",
       "1393    15\n",
       "1394    15\n",
       "1395    15\n",
       "1396    15\n",
       "1397    15\n",
       "1398    15\n",
       "1399    15\n",
       "1400    15\n",
       "1401    15\n",
       "1402    15\n",
       "1403    15\n",
       "1404    15\n",
       "1405    15\n",
       "1406    15\n",
       "1407    15\n",
       "Name: Category, dtype: int64"
      ]
     },
     "execution_count": 39,
     "metadata": {},
     "output_type": "execute_result"
    }
   ],
   "source": [
    "df[\"Category\"].tail(50)"
   ]
  },
  {
   "cell_type": "code",
   "execution_count": null,
   "metadata": {},
   "outputs": [],
   "source": []
  },
  {
   "cell_type": "markdown",
   "metadata": {},
   "source": [
    "### Building the classifier :"
   ]
  },
  {
   "cell_type": "code",
   "execution_count": null,
   "metadata": {},
   "outputs": [],
   "source": []
  }
 ],
 "metadata": {
  "interpreter": {
   "hash": "a9ca58c17c16ffb78afa33239fd707dc40c69496d3e07fb8cd4be0b682604448"
  },
  "kernelspec": {
   "display_name": "Python 3.10.2 64-bit",
   "language": "python",
   "name": "python3"
  },
  "language_info": {
   "codemirror_mode": {
    "name": "ipython",
    "version": 3
   },
   "file_extension": ".py",
   "mimetype": "text/x-python",
   "name": "python",
   "nbconvert_exporter": "python",
   "pygments_lexer": "ipython3",
   "version": "3.10.2"
  },
  "orig_nbformat": 4
 },
 "nbformat": 4,
 "nbformat_minor": 2
}
